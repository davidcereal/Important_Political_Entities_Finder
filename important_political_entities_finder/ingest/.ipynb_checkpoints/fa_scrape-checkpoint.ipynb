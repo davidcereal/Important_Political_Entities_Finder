{
 "cells": [
  {
   "cell_type": "code",
   "execution_count": 4,
   "metadata": {
    "collapsed": false
   },
   "outputs": [
    {
     "ename": "IndentationError",
     "evalue": "expected an indented block (fa_scrape.py, line 88)",
     "output_type": "error",
     "traceback": [
      "\u001b[0;36m  File \u001b[0;32m\"fa_scrape.py\"\u001b[0;36m, line \u001b[0;32m88\u001b[0m\n\u001b[0;31m    headline_tag = driver.find_element_by_xpath('//*[@id=\"edit-submit--3\"]')\u001b[0m\n\u001b[0m               ^\u001b[0m\n\u001b[0;31mIndentationError\u001b[0m\u001b[0;31m:\u001b[0m expected an indented block\n"
     ]
    }
   ],
   "source": [
    "import fa_scrape as fs\n",
    "\n",
    "\n",
    "\n",
    "\n"
   ]
  },
  {
   "cell_type": "code",
   "execution_count": 11,
   "metadata": {
    "collapsed": false
   },
   "outputs": [],
   "source": [
    "## Load chromedriver\n",
    "chromedriver = \"/Users/David/Downloads/chromedriver\"\n",
    "os.environ[\"webdriver.chrome.driver\"] = chromedriver\n",
    "\n",
    "## Use driver to load FA archive page\n",
    "driver = webdriver.Chrome(chromedriver)"
   ]
  },
  {
   "cell_type": "code",
   "execution_count": 12,
   "metadata": {
    "collapsed": false
   },
   "outputs": [
    {
     "data": {
      "text/plain": [
       "selenium.webdriver.chrome.webdriver.WebDriver"
      ]
     },
     "execution_count": 12,
     "metadata": {},
     "output_type": "execute_result"
    }
   ],
   "source": [
    "type(driver)"
   ]
  },
  {
   "cell_type": "code",
   "execution_count": 19,
   "metadata": {
    "collapsed": true
   },
   "outputs": [],
   "source": [
    "def recursive_click(path_to_element):\n",
    "    '''\n",
    "    Function to click on an element. If the click does not work, wait 10 \n",
    "    seconds and try again. Useful for when selenium's Explicit Wait causes\n",
    "    connection to close.\n",
    "    \n",
    "    '''\n",
    "    try:\n",
    "        path_to_element.click()\n",
    "    except:\n",
    "        time.sleep(10)\n",
    "        recursive_click(path_to_element)"
   ]
  },
  {
   "cell_type": "code",
   "execution_count": 20,
   "metadata": {
    "collapsed": false
   },
   "outputs": [],
   "source": [
    "def get_article_links(n_articles_desired, driver):\n",
    "    '''\n",
    "    Function to scrape the article htmls from the Foreign Affairs(FA) archive\n",
    "    search page.'Load More' must be clicked each timeto get an additional 10 \n",
    "    articles loaded to page. \n",
    "    \n",
    "    Args:\n",
    "        n_articles_desired(int): The number of article urls to scrape\n",
    "        driver(selenium webdriver obj): The chromedriver object\n",
    "    Returns:\n",
    "        url_archive_html_soup(str): the html of the FA archive page with all the desired urls loaded.\n",
    "    '''\n",
    "    ## Foreign Affairs archive search page\n",
    "    url = \"https://www.foreignaffairs.com/search?qs=\"\n",
    "    \n",
    "    driver.get(url)\n",
    "    \n",
    "    ## Click on date button to sort articles in descending date order\n",
    "    recursive_click(driver.find_element_by_xpath('//*[@id=\"content\"]/div/section[2]/div/div[2]/div/div/div/a'))\n",
    "    \n",
    "    ## Each time 'load more' is clicked, 10 more articles are\n",
    "    ## listed. Determine how many times to click 'Load More'\n",
    "    if n_articles_desired <= 10:\n",
    "        loads_needed = 1\n",
    "    else:\n",
    "        loads_needed = n_articles_desired/10\n",
    "\n",
    "    for i in range(loads_needed):\n",
    "        ## Click the 'Load More' button \n",
    "        recursive_click(driver.find_element_by_link_text(\"Load More\"))\n",
    "        \n",
    "    ## Return the html for the page with all the articles listed\n",
    "    url_archive_html_soup = BeautifulSoup(driver.page_source, 'html.parser')\n",
    "    return url_archive_html_soup\n",
    "\n",
    "\n",
    "    \n",
    "    \n",
    "\n",
    "\n"
   ]
  },
  {
   "cell_type": "code",
   "execution_count": 21,
   "metadata": {
    "collapsed": false
   },
   "outputs": [],
   "source": [
    "## Get the html with the links to the the last n articles from\n",
    "## the Foreign Affairs website\n",
    "url_archive_html_soup = get_article_links(30, driver)"
   ]
  },
  {
   "cell_type": "code",
   "execution_count": null,
   "metadata": {
    "collapsed": false
   },
   "outputs": [],
   "source": []
  },
  {
   "cell_type": "code",
   "execution_count": 22,
   "metadata": {
    "collapsed": true
   },
   "outputs": [],
   "source": [
    "def place_urls_in_list(url_archive_html):\n",
    "    '''\n",
    "    Function to find all the urls in the scraped archive page and then\n",
    "    store them in a list. \n",
    "    \n",
    "    Args:\n",
    "        url_archive_html_soup(Beautiful Soup obj): A Beautiful Soup html object of the Foreign Affairs archive page \n",
    "        containing the urls of the articles\n",
    "    Returns:\n",
    "        article_links:\n",
    "            A list of urls\n",
    "            \n",
    "    '''\n",
    "    article_links = []\n",
    "    article_titles = url_archive_html.find_all(class_='title')\n",
    "    for item in article_titles:\n",
    "        href_string = item.contents[1]\n",
    "        for href_tag, link_extension in href_string.attrs.items():\n",
    "            full_link = \"https://www.foreignaffairs.com\" + link_extension\n",
    "            article_links.append(full_link)\n",
    "    return article_links"
   ]
  },
  {
   "cell_type": "code",
   "execution_count": 23,
   "metadata": {
    "collapsed": false
   },
   "outputs": [],
   "source": [
    "## Get article links from url archive html\n",
    "article_links = place_urls_in_list(url_archive_html_soup)"
   ]
  },
  {
   "cell_type": "code",
   "execution_count": 24,
   "metadata": {
    "collapsed": false
   },
   "outputs": [
    {
     "data": {
      "text/plain": [
       "[u'https://www.foreignaffairs.com/articles/mexico/2013-12-16/bones-speak',\n",
       " u'https://www.foreignaffairs.com/articles/united-states/2013-12-18/whats-navy',\n",
       " u'https://www.foreignaffairs.com/articles/2013-12-18/would-you-kill-fat-man',\n",
       " u'https://www.foreignaffairs.com/articles/europe/2013-01-21/saving-euro-dividing-union',\n",
       " u'https://www.foreignaffairs.com/articles/united-states/2013-08-27/next-economic-bubble',\n",
       " u'https://www.foreignaffairs.com/articles/china/2014-01-10/party-century',\n",
       " u'https://www.foreignaffairs.com/articles/western-europe/2014-01-14/double-entendre',\n",
       " u'https://www.foreignaffairs.com/articles/middle-east/2014-01-21/limited-rights',\n",
       " u'https://www.foreignaffairs.com/articles/syria/2014-01-23/good-and-bad-ahrar-al-sham',\n",
       " u'https://www.foreignaffairs.com/articles/europe/2013-06-20/how-germany-won-euro-crisis',\n",
       " u'https://www.foreignaffairs.com/articles/united-kingdom/2015-12-16/little-england-no-more',\n",
       " u'https://www.foreignaffairs.com/articles/syria/2015-12-15/right-path-syrian-accord',\n",
       " u'https://www.foreignaffairs.com/articles/2015-12-15/algerias-next-succession',\n",
       " u'https://www.foreignaffairs.com/articles/united-states/2015-12-15/fed-mop-not-hike',\n",
       " u'https://www.foreignaffairs.com/articles/bosnia-herzegovina/2015-12-15/montenegros-moment',\n",
       " u'https://www.foreignaffairs.com/reviews/2015-12-14/european-disunion',\n",
       " u'https://www.foreignaffairs.com/articles/united-states/2015-12-14/putins-power-play-syria',\n",
       " u'https://www.foreignaffairs.com/reviews/2015-12-14/between-world-and-me',\n",
       " u'https://www.foreignaffairs.com/reviews/2015-12-14/intellectual-life-edmund-burke-sublime-and-beautiful-american-independence',\n",
       " u'https://www.foreignaffairs.com/reviews/2015-12-14/intellectual-life-edmund-burke-sublime-and-beautiful-american-independence',\n",
       " u'https://www.foreignaffairs.com/reviews/2015-12-14/world-without-end-spain-philip-ii-and-first-global-empire',\n",
       " u'https://www.foreignaffairs.com/articles/2015-12-14/inequality-and-globalization',\n",
       " u'https://www.foreignaffairs.com/articles/2015-12-14/how-create-society-equals',\n",
       " u'https://www.foreignaffairs.com/reviews/2015-12-14/big-ben',\n",
       " u'https://www.foreignaffairs.com/articles/iran/2015-12-14/time-get-tough-tehran',\n",
       " u'https://www.foreignaffairs.com/articles/russian-federation/2015-12-14/not-so-smart-sanctions',\n",
       " u'https://www.foreignaffairs.com/reviews/2015-12-14/war-states-and-contention-comparative-historical-study',\n",
       " u'https://www.foreignaffairs.com/reviews/2015-12-14/catching-capital-and-hidden-wealth-nations',\n",
       " u'https://www.foreignaffairs.com/reviews/2015-12-14/hirohito-s-war-pacific-war-1941-1945']"
      ]
     },
     "execution_count": 24,
     "metadata": {},
     "output_type": "execute_result"
    }
   ],
   "source": [
    "article_links"
   ]
  },
  {
   "cell_type": "code",
   "execution_count": 25,
   "metadata": {
    "collapsed": false
   },
   "outputs": [],
   "source": [
    "def ensure_article_page_loaded(driver):\n",
    "    count = 0\n",
    "    try:\n",
    "        headline_tag = driver.find_element_by_xpath('//*[@id=\"edit-submit--3\"]')\n",
    "    except:\n",
    "        count += 1\n",
    "        if count == 10:\n",
    "            return 'article page not loading'\n",
    "        time.sleep(5)\n",
    "        ensure_article_page_loaded()"
   ]
  },
  {
   "cell_type": "code",
   "execution_count": 32,
   "metadata": {
    "collapsed": false
   },
   "outputs": [],
   "source": [
    "def login_get_article_text(article_url, login_username, login_password):\n",
    "    '''\n",
    "    Function to login to Foreign Affairs(FA) website, should user be prompted to do so.\n",
    "    \n",
    "    Args:\n",
    "        article_url(str): url of the article\n",
    "        login_username(str): FA login username\n",
    "        login_password(str): FA password\n",
    "\n",
    "\n",
    "    '''\n",
    "    \n",
    "    ## Go to article page\n",
    "    driver.get(article_url)\n",
    "    \n",
    "    ## Click to login\n",
    "    login = driver.find_element_by_xpath('//*[@id=\"content\"]/article/div[3]/div[2]/div[1]/div/div[1]/div/a[1]')\n",
    "    login.click()\n",
    "    ## Locate email and password fields\n",
    "    email_adress_username = driver.find_element_by_xpath('//*[@id=\"edit-name\"]')\n",
    "    password = driver.find_element_by_xpath('//*[@id=\"edit-pass\"]')\n",
    "    \n",
    "    ## Click on the date button to reverse order of dates displayed so they are descending\n",
    "    email_adress_username.send_keys(login_username)\n",
    "    password.send_keys(login_password)\n",
    "    \n",
    "    ## Submit\n",
    "    submit = driver.find_element_by_xpath('//*[@id=\"edit-submit--3\"]')\n",
    "    submit.click()\n",
    "     \n",
    "    ## Make sure page is loaded before returning source\n",
    "    ensure_article_page_loaded()\n",
    "        \n",
    "    ## Make soup out of page_source\n",
    "    page_source = driver.page_source\n",
    "    article_html_soup = soupify_and_return_as_text(page_source)\n",
    "    return article_html_soup"
   ]
  },
  {
   "cell_type": "code",
   "execution_count": 33,
   "metadata": {
    "collapsed": true
   },
   "outputs": [],
   "source": [
    "def get_article_text_no_login(article_url):\n",
    "    '''\n",
    "    Function to load article page if there is no login needed\n",
    "    '''\n",
    "    driver.get(article_url)\n",
    "    page_source = driver.page_source\n",
    "    article_html_soup = BeautifulSoup(page_source, 'html.parser')\n",
    "    return article_html_soup"
   ]
  },
  {
   "cell_type": "code",
   "execution_count": 34,
   "metadata": {
    "collapsed": true
   },
   "outputs": [],
   "source": [
    "# function to get rid of u2018|\\u2019 and replace with quoteation mark\n",
    "def remove_unwanted_unicode_characters(text_string):\n",
    "    new_text_string = re.sub(u\"(\\u2018|\\u2019)\", \"'\", text_string)\n",
    "    new_text_string = re.sub(u\"(\\u2014)\", \"--\", new_text_string)\n",
    "    new_text_string = re.sub(u\"(\\u201c|\\u201d)\", '\"' , new_text_string)\n",
    "    new_text_string = re.sub(u\"(\\xa0)\", \"\", new_text_string)\n",
    "    new_text_string = new_text_string.replace(\"\\n\",\"\")\n",
    "    new_text_string = re.sub(u\"(\\u2013)\", \"-\", new_text_string)\n",
    "    new_text_string = re.sub(u\"(\\u2026)\", \"...\", new_text_string)\n",
    "    new_text_string = re.sub(u\"(\\xe9)\", \"e\", new_text_string)\n",
    "    new_text_string = re.sub(u\"(\\xad)\", \"-\", new_text_string)\n",
    "    new_text_string = re.sub(u\"(\\xfa)\", \"u\", new_text_string)\n",
    "    new_text_string = re.sub(u\"(\\xf3)\", \"o\", new_text_string)\n",
    "    new_text_string = re.sub(u\"(\\xed)\", \"i\", new_text_string)\n",
    "    new_text_string = re.sub(u\"(\\xe3)\", \"a\", new_text_string)\n",
    "    #new_text_string = re.sub(u\"(\\u2026)\", \"...\", new_text_string)\n",
    "    #new_text_string = re.sub(u\"(\\u2026)\", \"...\", new_text_string)\n",
    "    #new_text_string = re.sub(u\"(\\u2026)\", \"...\", new_text_string)\n",
    "    new_text_string = str(new_text_string.encode('ascii','ignore')).replace(\"\\\\\",\"\")\n",
    "    #new_text_string = re.sub(\"\\\\\", \"\", str(new_text_string))\n",
    "    return new_text_string"
   ]
  },
  {
   "cell_type": "code",
   "execution_count": 35,
   "metadata": {
    "collapsed": false
   },
   "outputs": [],
   "source": [
    "def get_article_data(article_links, driver):\n",
    "    '''\n",
    "    Function to get the data for each article from the list of article links.\n",
    "    The data to be scraped for each article is the title, description, date, and article.\n",
    "    Stores each articles as a document in a mongoDB database.\n",
    "    \n",
    "    Args:\n",
    "        article_links(list): a list of article urls\n",
    "        driver(selenium webdriver obj): The chromedriver object\n",
    "\n",
    "\n",
    "        \n",
    "    '''\n",
    "    articles_data_list = []\n",
    "    for article_url in article_links:\n",
    "\n",
    "        ## Login if needed\n",
    "        try: \n",
    "            soup = login_get_article_text(article_url)\n",
    "        except:\n",
    "            soup = get_article_text_no_login(article_url)\n",
    "            \n",
    "        \n",
    "        ## Retrieve the top and bottom halves of the article\n",
    "        top_content = soup.find_all(class_=\"top_content_at_page_load\" )\n",
    "        end_content = soup.find_all(class_=\"l-article-column article-icon-cap\")\n",
    "\n",
    "        ## Format out the unicode from the top half\n",
    "        try:\n",
    "            top_article_formatted = remove_unwanted_unicode_characters(top_content[0].get_text())\n",
    "        except:\n",
    "            top_article_formatted = soup.findAll(class_=\"container l-detail\")[0].text\n",
    "\n",
    "        ## Format out the unicode from the bottom half\n",
    "        try:\n",
    "            bottom_article_formatted = remove_unwanted_unicode_characters(end_content[0].get_text())\n",
    "        except:\n",
    "            bottom_article_formatted = 'blank'\n",
    "\n",
    "        ## Combine top and bottom halves\n",
    "        full_article = top_article_formatted + \" \" + bottom_article_formatted\n",
    "\n",
    "        ## Get headline tag and convert to string\n",
    "        title_tag = soup.find_all(class_=\"article-header__headline\")[0].contents[0]\n",
    "        title = remove_unwanted_unicode_characters(title_tag)\n",
    "        ## Get headline tag and convert to string\n",
    "        try:\n",
    "            description_tag = soup.find_all(class_='article-header__deck')[0].contents[0]\n",
    "            description = remove_unwanted_unicode_characters(description_tag)\n",
    "        except:\n",
    "            description = 'blank'\n",
    "\n",
    "        ## Get article date\n",
    "        try:\n",
    "            date = parser.parse(str(soup.findAll('time')[0].contents[0]))\n",
    "        except:\n",
    "            try:\n",
    "                date = parser.parse(re.findall('([0-9]{4}-[0-9]{2}-[0-9]{2})', concatenated_url)[0])\n",
    "            except: \n",
    "                try:\n",
    "                    date = str(soup.findAll(class_='date')[0].contents[0])\n",
    "                    date = parser.parse(re.findall('/.+', date)[0])\n",
    "                except:\n",
    "                    date = str(soup.find(class_=\"article-header__metadata-date\").text)\n",
    "                    date = parser.parse(re.findall('/\\w+\\s{1}\\d+', date)[0])\n",
    "\n",
    "        ## Make a dictionary out of the article data\n",
    "        article_data_dic = dic = {'title':title, 'date':date, \n",
    "                                  'description':description, 'article':full_article }\n",
    "\n",
    "        ## Append the dictionary of article data to a list with the other article data\n",
    "        articles_data_list.append(article_data_dic)\n",
    "    return articles_data_list\n",
    "\n",
    "                    "
   ]
  },
  {
   "cell_type": "code",
   "execution_count": 36,
   "metadata": {
    "collapsed": false
   },
   "outputs": [],
   "source": [
    "## iterate throgh concatenated urls and get article data from the page\n",
    "articles_data_list = get_article_data(article_links, driver)\n"
   ]
  },
  {
   "cell_type": "code",
   "execution_count": 157,
   "metadata": {
    "collapsed": false
   },
   "outputs": [
    {
     "data": {
      "text/plain": [
       "[{'article': 'For the first time in six years, the North Atlantic Treaty Organization announced that it would expand its membership, inviting Montenegro to join the alliance. Only 16 years ago, NATO was bombing the small western Balkan nation as part of its intervention in Kosovo.With a standing military of only 2,000, Montenegro\\'s membership will have little impact on the alliance\\'s military strength. But the move has profound political consequences. It illustrates the progress that the western Balkans, and Montenegro in particular, have made since the bloody and traumatizing wars of the 1990s. To receive the invitation, Montenegro had to undertake a series of political, legal, and military reforms under the auspices of NATO\\'s Membership Action Plan, a program that offers assistance and support for countries seeking to join the alliance. That a newly independent country could reach these standards in such a short time frame speaks to the enduring and powerful draw of the Euro-Atlantic community. In that sense, this remarkable success story comes at an opportune time--it is a bright spot in Europe\\'s otherwise dark political terrain of internal strain, the refugee crisis, and the war in Ukraine.  Hazir Reka / ReutersProtesters flee from tear gas in the center of Kosovo\\'s capital Pristina, November 18, 2015. Police and protesters clashed in Kosovo for a second day on Wednesday in a deepening crisis over relations with former ruler Serbia.Montenegro\\'s membership also represents a major step toward consolidating political stability and democracy in the western Balkans; the reforms it undertook to reach this point include strengthening its governing structures and democratic institutions, as well as bringing its military up to NATO standards. NATO membership would also turn Montenegro into a regional leader and an example of how a small country, not even a decade old, can make great strides so long as it has enough political ambition. The move could inspire others, such as Macedonia and Bosnia and Herzegovina, to reenergize necessary reforms for eventual membership, a process that has stagnated in both countries. Montenegro\\'s invitation would also send a signal to Georgia and Ukraine that NATO is, in fact, honoring its \"open door policy,\" which was questioned in the face of Russia\\'s annexation of Crimea.Russia is staunchly opposed to NATO expansion due to its deep-seated and historical fear of being \"encircled\" by a potential adversary. Within Russia, President Vladimir Putin inflates the threat of NATO as the country\\'s top geopolitical foe in order to stoke Cold War-era tensions and consolidate domestic power. This makes curbing NATO expansion a strategic priority for Russia. Unsurprisingly, Russia quickly denounced NATO\\'s invitation to Montenegro, which gained independence from Russia\\'s natural ally in the region, Serbia, only nine years ago. Russia\\'s Foreign Ministry called the decision \"an openly confrontational step fraught with additional destabilizing consequences for the system of Euro-Atlantic security\" and Dmitry Peskov, President Vladimir Putin\\'s spokesman, said that NATO\\'s expansion \"cannot but result in retaliatory actions ... from the Russian side.\"Such warnings are likely rhetorical. Montenegro is more geographically insulated from Russia than Georgia or Ukraine. It\\'s more likely that Russia will retaliate through political or economic channels instead. Already, pro-Russian groups in Montenegro have taken to the streets to protest against NATO membership and have also called for the resignation of Montenegrin Prime Minister Milo Djukanovic. Russia may stoke further civil unrest in order to make the country appear too unstable to join NATO. That may not be difficult to do. Domestically, Montenegro faces anti-NATO factions including from within both the Orthodox Church and political parties that emphasize ties to Serbia and Russia over NATO.Russia also has substantial economic leverage over the country, particularly in the tourism and real estate industries (an estimated 40 percent of Montenegrin real estate is Russian-owned); thus, Moscow, which placed a food embargo on Montenegro after it sided with the West on Ukraine, could slap on more sanctions in order to further punish the country for its Western-leaning political ambitions.  Marko Djurica / ReutersKosovo Serb boys stand on the street during a protest, October 17, 2011.Domestically, Montenegro\\'s public is skeptical that NATO membership will be economically beneficial and is wary of the current government\\'s motives, since Djukanovic, the very man who has steered his country toward NATO inclusion, has been charged with financial corruption. An investigation by the BBC in 2012 found that he and his associates were using a partially public-funded bank for their own personal use.    googletag.cmd.push(function() {      googletag.display(\"dfp-ad-x90_2\");    });  When the 28 NATO members vote on Montenegro\\'s membership in the coming year, Russia can fund anti-NATO political parties in countries more susceptible to Russian money, such as Hungary, Greece, or the Czech Republic, to vote, \"no.\" In the past, NATO members\\' parliaments have always deferred to their government\\'s decision on NATO enlargement, but since the decision requires unanimous consensus among all 28 members, Russian influence remains a risk.  The most likely scenario, however, is that Russia will look to prevent Serbia from following Montenegro\\'s path. In recent years, Russia has worked to consolidate influence in Serbia and Republika Srpska, the ethnically Serb entity in Bosnia and Herzegovina, through economic aid and military cooperation.The EU opened accession talks with Serbia in the wake of the announcement about Montenegro\\'s NATO membership. This demonstrated a rare example of coordination between NATO and the EU, two institutions that struggle to work together because of political divisions between two of its members, Turkey and Cyprus. But this move also opens new avenues for Russia to derail progress in the Balkans, either through Serbia\\'s EU accession talks or through the fragile Serbia-Kosovo peace deal that the EU brokered in 2013.Crises in the Middle East and Ukraine have pushed the Balkans down on the priority list for many transatlantic leaders. But it is time to pay attention to the region again. Its relative calm and peace should not be taken for granted. Economic distress and the refugee and migrant crisis have stretched the Balkans\\' fledgling democracies to their limits and opened new avenues for Russian interference. Bosnia risks backsliding into political turmoil, and Macedonia\\'s ambitious political and democratic reforms suffered a monumental setback this summer after a scandal over the government\\'s wiretaps of opposition leaders and ethnic violence in the Kumanovo region. Even the watershed Serbia-Kosovo peace deal hangs by a thread today; Kosovo erupted in protests last month after the government made a deal with Serbia to integrate Serb-majority regions in Kosovo--a move supported by Brussels. These are manifestations of deep-seated and unresolved political, ethnic, and economic stresses that are bubbling beneath the surface of ostensible progress toward European integration. That is why Montenegro\\'s NATO membership invitation, although a major milestone, does not mean that peace in the region is a foregone conclusion. ',\n",
       "  'date': datetime.datetime(2015, 12, 24, 0, 0),\n",
       "  'description': \"  Why Moscow Doesn't Want Montenegro Joining NATO\",\n",
       "  'title': \"The New Thorn In Russia's Side\"},\n",
       " {'article': 'In Turkey, where there has been a rise in Islamic religiosity, President Recep Tayyip Erdogan, founder of the pro-Islamist Development and Justice Party (AKP), is converting some public schools into seminaries called imam-hatips (or traditional training schools for Sunni Muslim clergy) in an effort to raise a generation of \"religious youth.\"Students who perform poorly on entrance exams for secondary school are shunted into imam-hatips where they study the Koran for up to 13 hours a week and take courses on the life of the Prophet Muhammad and Arabic. Erdogan has boasted that during his tenure as president, enrollment in these schools soared from 63,000 to over one million. The number of imam-hatips increased by 73 percent between 2010 and 2014 and 13percent of Turkish students now study at such schools.Outraged, dozens of Turkish parents in Istanbul created an advocacy group called HandsOff My School to fight against Erdogan\\'s education policy. In June of 2014, when the government tried to convert the local middle school to an imam-hatip, the group circulated a petition that quickly collected 13,000 signatures from other parents. A young lawyer from the neighborhood, Yasemin Zeytinoglu, even filed an emergency suspension with the Istanbul Administrative Court to halt the conversion.  Government officials eventually dropped the order to convert the school, giving the parents a short-lived victory. But the school stopped taking new students and after the current classes graduate, it will reopen as an extracurricular center. Left with no choice but to enroll their children in a different middle school, some parents told us that they felt the government was punishing them for protesting.In September, at the start of the 2014 school year, the members of Hands Off learned that 40,000 children were registered at imam-hatips without parental permission, including the grandson of Turkey\\'s Chief Rabbi, Ishak Haleva. Hands Off, along with the tens of thousands of people from the secular teachers\\' union and from religious minority groups, rallied forcefully in response. During one nationwide demonstration in February, the government responded by locking students inside their schools and calling the police to fire water cannons on protestors.In Gongoren, a working class borough of Istanbul where three middle schools were recently converted to imam-hatips, 50 men and women met over the summer with Zeytinoglu. She told her audience, \"The decision to change the school wasn\\'t legal. You were never asked if you wanted it to change.\" Zeytinoglu has five cases in front of the court now, each for a different school. She argued that in Gongoren, officials did not adequately consult parents and gave no notice before converting the school. Further, there was insufficient demand for religious education in the neighborhood given that it already had seven other imam-hatips.One parent, Gulay Kacar, a stout woman who wore a paisley headscarf, has a son in the fifth grade at Mehmet Akif Middle School, now an imam-hatip. To avoid religious education, which she said will deprive her son of science classes, she will have to send him to a school in another neighborhood where, \"there is so much violence, people are stabbing each other.\" She told the parents, \"They put pressure on us. They force our kids to have the education that they want.\"Kacar, along with Nurcan Aybalik, whose child was also a student at the now-converted school, set up a signature drive in the Kale Outlet Mall in the city center. Shortly after, five clean-shaven youths approached them and swore at the two women, telling them that they had loosened their headscarves and had made prostitutes of themselves by questioning Islam. \"Islam is coming and we will make you observe our laws,\" they said, according to both Kacar and Aybalik.  Umit Bektas / ReutersStudents of an Imam Hatip high school march during a Republic Day ceremony in Ankara, Turkey, October 29, 2015.Extremist views are on the rise in Turkey. Twenty percent of Turks support responding to an insult against Islam with violence, up almost 8 percent from last year, according to the Turkish polling firm Metropoll. A Pew Research Center poll released last month reported that eight percent of Turkish people have a favorable opinion of ISIS and 19 percent are \"undecided.\"\"Because of the mindset of religious education, we are being polarized,\" said Aybalik. Erdogan and the AKP have fought hard to hold onto their tenuous majority in parliament, and religious values are a cornerstone of their message to their Sunni Muslim base. Meanwhile, political opponents warn that religious educational policies will polarize the citizenry. Minority groups, especially Alevi-Muslims, who follow a blend of Shia and syncretic beliefs and make up as much as 25 percent of the Turkish population, are increasingly alienated.In 2011, three Alevi Turkish parents of secondary school students brought a complaint before the European Court of Human Rights, stating that their children were forced to attend Sunni Islamic classes, in violation of the first protocol of the Convention on Human Rights Protocol: the right to education. In February of this year, the court made a final ruling, determining that Turkey\\'s compulsory religious education violates children\\'s rights. Turkey\\'s own highest court ruled similarly in June, deeming the AKP\\'s policies unconstitutional. The government has ignored these rulings. Some fear that the European Union, which recently pledged $3.2 billion in Syrian refugee aid to Turkey--in return for helping staunch the flow of migrants into Europe--may in the future turn a blind eye to such human rights abuses in Turkey.  Murad Sezer / ReutersTurkish girls read books at the library at the Kazim Karabekir Girls\\' Imam-Hatip School in Istanbul, February 10, 2010.As for claims that these religious schools breed extremism, Turkey\\'s religious leaders have countered that their Sunni education has nothing to do with radical Islam. \"Islam is a religion of peace and we teach this,\" said Huseyin Korkut, the head of Onder, an umbrella organization for imam-hatip alumni. \"Among the graduates [of imam-hatips] almost no one joined Al Qaeda or ISIS.\" Indeed, many graduates become public servants. ',\n",
       "  'date': datetime.datetime(2015, 12, 23, 0, 0),\n",
       "  'description': '  The Closure of Secular Schools',\n",
       "  'title': \"Erdogan's Assault on Education\"},\n",
       " {'article': '\"France is our oldest ally,\" U.S. President Barack Obama reminded Americans on November 13, after ISIS terrorists launched coordinated attacks in Paris, killing 130. Indeed, the French sent an ambassador to the breakaway colony back in 1778, and Benjamin Franklin arrived in Paris the next year, establishing the United States\\' first foreign mission. Gerard Araud, a career diplomat who began as a Middle East specialist, has served as French ambassador to the United States since September 2014; before that, he led France\\'s permanent mission to the UN. Araud spoke with Foreign Affairs deputy managing editor Stuart Reid at the French embassy in Washington, D.C., on December 16, 2015.The attacks on Paris were disturbing not just because of the loss of life but also because they struck a city that symbolizes openness. Have the attackers succeeded in jeopardizing the liberal values that Paris represents?The answer is no. But after such a terrorist attack, you are obliged to take some law-enforcement measures. Any liberal democracy has a delicate balance between civil liberties and law enforcement. After 9/11, you had the Patriot Act. After this attack, we have the state of emergency in France.More serious is that the attackers want to create a rift between French Muslims and other French citizens. The French authorities are very keen on avoiding it, but you saw the result of the recent elections in France, where the far right did very well.It\\'s a bit like Trump. Trumpism is a transatlantic phenomenon. The problem of backlash against  Log in or register for free to continue reading.Registered users get access to one free article every month.Log in Register         Or subscribe and save 55%!      Your subscription includes:        Full website and iPad access              Magazine issues      New! Books from the        Foreign Affairs Anthology Series              Subscribe       Yes.What\\'s your reaction?We are foreigners. I\\'ve always said to my diplomats, \"You should consider that we are different.\" A lot of people believe that Europeans and Americans are more or less alike, with small differences. And I think that approach is leading to misunderstanding. Actually, we are different--in our history, in our political traditions, in our visions of the world. ',\n",
       "  'date': datetime.datetime(2015, 12, 21, 0, 0),\n",
       "  'description': '  A Conversation With Ambassador Gerard Araud',\n",
       "  'title': \"We'll Always Have Paris\"},\n",
       " {'article': 'Hunting giraffes with an AK-47 is not an activity that most people associate with the life of a terrorist, but for al Shabab, big game hunting is but one of the many perks of membership. A recent al Shabab video depicted fighters stalking and shooting giraffes, antelope, and buffalo, frolicking in a swimming hole, and sharing large plates of fresh fruit within Somalia\\'s lush expanses. Compared to the brutality of recruitment videos from the Islamic State (also known as ISIS), al Shabab is peddling a softer version of jihad.This take on jihadi life is not always standard fare for the Somali terror group. Al Shabab\\'s cinematic efforts often feature brutality and violence. This video, however, is part of an attempt to reinvigorate a key element of its rise that saw it become, for a time, one of the world\\'s most prominent terrorist organizations. By casting jihad as a life of adventure and excitement, al Shabab is again trying to lure Western recruits. And its chances of success grow daily.Al Shabab has always prized foreign recruits. In 2008, its spokesman Mukhtar Robow extolled foreign fighters as a \"precious element\" the group needed to attract. Particularly valued were battle-hardened terrorists from other conflict areas, including Afghanistan and Iraq, who brought fighting acumen, technological skills, and leadership experience. At one time, more than half of al Shabab\\'s governing council was thought to be non-Somali.Unskilled recruits from the West have been useful as well. Anywhere from 20 to 60 Somali-Americans  Log in or register for free to continue reading.Registered users get access to one free article every month.Log in Register         Or subscribe and save 55%!      Your subscription includes:        Full website and iPad access              Magazine issues      New! Books from the        Foreign Affairs Anthology Series              Subscribe       ',\n",
       "  'date': datetime.datetime(2015, 12, 17, 0, 0),\n",
       "  'description': '  To Win Westerners, Al Shabab Goes on Safari',\n",
       "  'title': 'The Softer Side of Jihad'},\n",
       " {'article': 'Syrian President Bashar al-Assad has made it clear that he has no interest in negotiating with rebels, whom he considers \"terrorists.\" His allies, Moscow and Tehran, also continue to rebuff demands for him to step down. So did it matter that, last week, members of the Syrian opposition repeated their calls for Assad\\'s removal in a conference in Riyadh? It is hardly consequential in the near term. But the conference\\'s goal--to put the Syrian opposition\\'s house in order--is a worthy one. In fact, it is critical for international efforts to end the civil war.Riyadh, along with Ankara and Doha, is committed to toppling Assad. Yet what all three capitals have finally realized is that the Syrian leader\\'s departure, whether by force or negotiation, cannot be achieved without a more coherent Syrian opposition that can speak with one voice in international fora and effectively join arms on the battlefield. Of course, unifying the huge mess that is the Syrian opposition is easier said than done. And it\\'s not like it hasn\\'t been tried before. Over the past four years, none of the attempts by various countries to unify the rebels and the politicians has worked. And so, Saudi Arabia will try to succeed where others before it have failed, even though its own record of bringing together rival Palestinian groups over the years has not been stellar.In a sense, Riyadh cannot afford to fail. A more integrated Syrian opposition is at  Log in or register for free to continue reading.Registered users get access to one free article every month.Log in Register         Or subscribe and save 55%!      Your subscription includes:        Full website and iPad access              Magazine issues      New! Books from the        Foreign Affairs Anthology Series              Subscribe       ',\n",
       "  'date': datetime.datetime(2015, 12, 17, 0, 0),\n",
       "  'description': '  And Whether It Can Succeed',\n",
       "  'title': \"Saudi Arabia's Plan in Syria\"},\n",
       " {'article': 'In recent weeks, several leading Republican presidential candidates have argued in favor of selectively sealing U.S. borders to Syrians and others. That--and the discontinuation of any Syrian refugee resettlement programs--they argue, will keep the United States safe from terrorist attacks. Such fantastical and ill-informed suggestions are counterproductive on their own terms, but they also distract from very real and consequential ways in which refugees and migrants are being used as political and military weapons.PEOPLE PUSHERSAll sides in the Syrian civil war have, to some extent, strategically engineered mass movements of civilians into and away from their areas of territorial control. In some cases, the systemic depopulation and repopulation of territory represent attempts to gain tactical military advantage. For example, in early October Amnesty International reported that the Democratic Union Party (PYD), a Kurdish rebel group in Syria, was demolishing homes and displacing entire villages in order to, as Mao would have put it, \"drain the sea [the civilians] in which the fish [the enemy] swims.\" The PYD is not alone. This kind of engineered migration has long been a tool of warfare, since noncombatants can provide safety, succor, and support and serve as a source of recruits.Conversely, civilians may also be prohibited from fleeing areas controlled by combatants, in order to shield soldiers and their supporters from military attack. Human Rights Watch reported in early November, for instance, that the rebel group Jaysh al-Islam has been keeping civilian hostages in northern Syria in order  Log in or register for free to continue reading.Registered users get access to one free article every month.Log in Register         Or subscribe and save 55%!      Your subscription includes:        Full website and iPad access              Magazine issues      New! Books from the        Foreign Affairs Anthology Series              Subscribe       ',\n",
       "  'date': datetime.datetime(2015, 12, 17, 0, 0),\n",
       "  'description': '  People as Weapons in Syria and Beyond',\n",
       "  'title': 'Demographic Bombing'},\n",
       " {'article': \"Across Russia, from St. Petersburg in the north to Volgograd in the south, truckers are on strike. They're angered by a new road tax that they say is rooted in corruption and will bankrupt them. And so, some 200 long-haul drivers have disrupted roads for over two weeks and have vowed to take their motorized protest to Moscow unless the Russian government removes the tax, fires the transport minister, and fines the oligarch Arkady Rotenberg and his son, whose company was selected to collect the new fees.In the region and beyond, similar movements that were catalyzed by grievances about corruption and involved diverse groups of protesters, including young people, professionals, and blue-collar workers, have toppled other regimes, including that of Viktor Yanukovych in next-door Ukraine. In his increasingly authoritarian rule, Russian President Vladimir Putin has often denouncedsuch revolts, presumably fearing the same fate. Now he must be especially worried. Past protests in Russia have typically been confined to Moscow and attracted mostly liberal elites, so dissent from a blue-collar constituency hailing from the heartland can't be good news.Although there's a chance that this nonviolent civil resistance might catalyze broader action, whether it will produce a democratic breakthrough depends on the desire and ability of the truckers--and the others now joining them--to diversify their support base, tap into economic and ethnic grievances nationwide, and organize.  Maxim Shemetov / ReutersA participant wears a T-shirt with an image of Russian President Vladimir Putin during an opposition protest march in Moscow, June 12, 2013.The Russian truckers' resistance reveals growing unhappiness among ordinary Russians. Although the drivers insist that their protests are strictly  Log in or register for free to continue reading.Registered users get access to one free article every month.Log in Register         Or subscribe and save 55%!      Your subscription includes:        Full website and iPad access              Magazine issues      New! Books from the        Foreign Affairs Anthology Series              Subscribe       \",\n",
       "  'date': datetime.datetime(2015, 12, 17, 0, 0),\n",
       "  'description': '  Are Truckers Ushering in a Russian Spring? ',\n",
       "  'title': 'Keep on Trucking'},\n",
       " {'article': 'In 2010, a disturbing report made its entry into an already upsetting news cycle. Members of a U.S. Army brigade, assembled into a self-proclaimed \"kill team,\" had indiscriminately targeted civilians in southern Afghanistan. As trophies for their deeds, the soldiers collected fingers, leg bones, and skulls from their victims. Photos taken by the soldiers posing next to dead bodies came to light, along with the fact that the main instigator kept tally of each victim by having skulls tattooed on his calf.Such news reports, a sadly recurring feature of contemporary life, trace a predictable arc. The initial horror quickly subsides in the face of official reassurances and the unrelenting tide of other news. Should the public seek to draw lasting political conclusions from such horrors, it will be predictably reminded that there is only one: that an atavistic darkness has lurked in the hearts of man since the emergence of the species.Even a cursory reflection on the available facts, however, shows that such atrocities are not aberrations committed in a political vacuum. Calvin Gibbs, the main instigator of the kill team in Afghanistan, bragged about having done the same things during the occupation of Iraq. But collecting the remains of the enemy was also widely practiced by American soldiers during the Vietnam War. And when Gibbs referred to the victims of his grisly deeds as \"dirty savages,\" he was, consciously or not, tapping into an entrenched history of conquest and occupation.The horrors of the past live in  Log in or register for free to continue reading.Registered users get access to one free article every month.Log in Register         Or subscribe and save 55%!      Your subscription includes:        Full website and iPad access              Magazine issues      New! Books from the        Foreign Affairs Anthology Series              Subscribe       ',\n",
       "  'date': datetime.datetime(2015, 12, 17, 0, 0),\n",
       "  'description': '  Imperialism, Past and Present',\n",
       "  'title': 'Empire Strikes Back'},\n",
       " {'article': '\"Britain has got its mojo back,\" declared British Chancellor of the Exchequer George Osborne in a speech at the Council of Foreign Relations in New York last week. His comments followed a vote in the House of Commons that authorized British airstrikes in Syria. British allies greeted the decision with relief--the vote appeared to reverse what some critics viewed as the United Kingdom\\'s inexorable retreat from the world stage.Those critics argued that the United Kingdom had adopted an increasingly parochial attitude toward the rest of the world. They pointed to budget cuts in the military and diplomatic corps, a reluctance to join the campaign against the self-proclaimed Islamic State (also known as ISIS), an approach to China that prioritized narrow economic interest over broader strategic concerns, an inability to formulate a strategy to respond to Russian aggression in Ukraine, and British skepticism toward the European Union, with a referendum on membership of the EU likely to take place in 2016.Over the last couple of months, the British government has certainly taken steps to address some of its foreign policy shortcomings--a process no doubt facilitated by the terrorist attacks in Paris. The vote in the House of Commons was the clearest illustration, as British parliamentarians finally cleared the way for the United Kingdom to join the coalition against ISIS in Syria. The United Kingdom\\'s military contribution will only have a marginal impact. To date, British airstrikes have carried out around eight percent of the total carried out against  Log in or register for free to continue reading.Registered users get access to one free article every month.Log in Register         Or subscribe and save 55%!      Your subscription includes:        Full website and iPad access              Magazine issues      New! Books from the        Foreign Affairs Anthology Series              Subscribe       ',\n",
       "  'date': datetime.datetime(2015, 12, 16, 0, 0),\n",
       "  'description': '  The United Kingdom Sends a Signal in Syria',\n",
       "  'title': 'Little England No More?'},\n",
       " {'article': 'As Syrian civilians suffer ceaseless indiscriminate attacks, millions of their compatriots flee their homes, and the self-proclaimed Islamic State (also known as ISIS) extends its killing beyond Syria and Iraq, the only good news coming out of the Middle East\\'s most violent conflict is that the contours of a deal to end it have become clearer. After talks in Vienna in late October, the main foreign actors in Syria\\'s civil war issued a declaration outlining the principles that could guide some of the conflict\\'s combatants toward a political settlement. The Vienna declaration calls for secular governance, the eventual defeat of ISIS \"and other terrorist groups,\" the maintenance of the country\\'s prewar borders, and the protection of minority groups and state institutions, among other provisions. Yet it fails to address a key issue: how the warring parties might build the trust needed to achieve such goals. As negotiators prepare for a new round of talks in New York in late December or early January, it is essential that they address trust building head-on, above all by demanding an end to the attacks on civilians that are driving Syrians apart and by sidelining the people who have been responsible for them.BOTTOM LINESBy now, it should be clear that none of the Syrian combatants are capable of prevailing militarily. Even with Russia\\'s entry into the war and the backing of Hezbollah and Iranian troops, Syrian President Bashar al-Assad\\'s forces have not been able to make significant  Log in or register for free to continue reading.Registered users get access to one free article every month.Log in Register         Or subscribe and save 55%!      Your subscription includes:        Full website and iPad access              Magazine issues      New! Books from the        Foreign Affairs Anthology Series              Subscribe       ',\n",
       "  'date': datetime.datetime(2015, 12, 15, 0, 0),\n",
       "  'description': '  End Atrocities to Build Trust',\n",
       "  'title': 'The Right Path to a Syrian Accord'},\n",
       " {'article': \"This is not a particularly happy time in Algerian politics. In the past two decades, the Algerian public has faced two realities: a civil war that threatened to shatter the state from its core and then relative calm under President Abdelaziz Bouteflika. The president, now in his late 70s, has ruled the nation since 1999. Following the Arab Spring in 2010, Bouteflika promised reforms to the Algerian political system that have yet to fully materialize. Global oil prices have plummeted, and Algeria has had to balance its budget by introducing austerity measures. And now, the burden of unpopular economic policies and Bouteflika's lingering health problems has led many to fear the return of political uncertainty.The next few years may test Algeria's political health, but there are signs that the nation can weather a period of uncertainty. Most telling is that, where decades ago, Algerians demanded democracy, they now hope for continuity. In pursuit of this, the Algerian polity may tolerate pseudo-democratic theatrics--as with Bouteflika's unprecedented re-election to his fourth term--as it spells certainty and stability.THE END OF RENTIER POLITICSAlgeria's current situation thus threatens to erode two central pillars of its normalcy: Bouteflika and oil profits that have subsidized life for ordinary Algerians. The government's recent moves within the economy, presidency, and army can be understood as an attempt to preserve these tenets of the Algerian social contract despite the significant challenges it faces in doing so.First, knowing that Algerian subsidy  Log in or register for free to continue reading.Registered users get access to one free article every month.Log in Register         Or subscribe and save 55%!      Your subscription includes:        Full website and iPad access              Magazine issues      New! Books from the        Foreign Affairs Anthology Series              Subscribe       \",\n",
       "  'date': datetime.datetime(2015, 12, 15, 0, 0),\n",
       "  'description': '  Preparing for a Post-Bouteflika World',\n",
       "  'title': \"Algeria's Next Succession\"},\n",
       " {'article': \"By the most recent forecast, the U.S. Federal Reserve is set to raise interet rates on December 16. That it's happening in the midst of a global economic slowdown is bad news for markets and economies around the world. Even China's yuan, which had remained stable alongside the strengthening U.S. dollar until recently, had to decouple from it in August to bolster the country's faltering export industries; it was another decision that shook markets worldwide.Federal Reserve Chair Janet Yellen has been warning of the coming interest rate hike for some time now. She wanted to sound the alarm sooner rather than later because the Fed has injected some $2.5 trillion in excess reserves--17.6 times more than the statutory reserves needed to support the present level of U.S. money supply and lending activity. When a central bank has created such an unprecedented degree of liquidity, particularly with the U.S. economy doing relatively well, inflation could accelerate much sooner than in the past once the private sector is ready to borrow money again. That could force the Fed into an abrupt tightening, which could be very damaging to the market and the economy. The Fed must also avoid creating the impression of being behind the curve on inflation lest it trigger a bond market crash that could send long-term interest rates rocketing.  Kevin Lamarque / ReutersU.S. Federal Reserve Chair Janet Yellen testifies before the Senate Banking Committee on Capitol Hill in Washington, July 15, 2014.In spite of  Log in or register for free to continue reading.Registered users get access to one free article every month.Log in Register         Or subscribe and save 55%!      Your subscription includes:        Full website and iPad access              Magazine issues      New! Books from the        Foreign Affairs Anthology Series              Subscribe       \",\n",
       "  'date': datetime.datetime(2015, 12, 15, 0, 0),\n",
       "  'description': '  Cleaning Up Excess Reserves Rather Than Raising Rates',\n",
       "  'title': 'For the Fed, Mop Not Hike'},\n",
       " {'article': 'By finally inviting Montenegro to join NATO, the treaty organization has taken a significant step toward ending Russian chicanery in this small but significant Balkan country. But it will have to act fast to secure its gains. If NATO fails to close the deal, Moscow will have an opening to further destabilize the region and undermine Western interests in Bosnia-Herzegovina, Kosovo, Macedonia, and Serbia.In principle, there is little reason to fear.Completing the process of membership requires that Montenegro iron out a few technical details regarding its accession and that the legislative branches of NATO members, including the U.S. Senate, approve the formal protocols.But all this takes time, and Montenegro faces elections in October. This creates a perfect opportunity for Russian subversion.The potential for Russian interference was evident in October, when Montenegrin protesters and police clashed during demonstrations against the country\\'s President, Milo Djukaonovic. Although officials in Moscow denied Djukanovic\\'s allegations that they orchestrated the protests--and clearly many protesters were demonstrating over corruption and the state of the economy--speculation about Moscow\\'s role mounted when the archbishop of the staunchly pro-Russia Serbian Orthodox Church publicly lamented Montenegro\\'s separation from \"Mother Russia.\" Meanwhile, in neighboring Bosnia, Russia has become openly partisan in favor of the separatist Serb leaders. The Russian ambassador there recently injected himself in a tense controversy over a highly provocative referendum that could put the country\\'s stability in jeopardy. The idea that Moscow would show restraint next  Log in or register for free to continue reading.Registered users get access to one free article every month.Log in Register         Or subscribe and save 55%!      Your subscription includes:        Full website and iPad access              Magazine issues      New! Books from the        Foreign Affairs Anthology Series              Subscribe        ',\n",
       "  'date': datetime.datetime(2015, 12, 15, 0, 0),\n",
       "  'description': '  Why NATO Should Act Fast',\n",
       "  'title': \"Montenegro's Moment\"},\n",
       " {'article': 'The EU is under siege. The arrival of hundreds of thousands of refugees from Afghanistan, Iraq, and Syria has tested the single-border principle at the core of the union. The ongoing financial crisis in Greece has strained the single currency. The United Kingdom will soon hold a referendum on whether or not to exit the EU. The survival of an EU with a single border, a single currency, and a stable membership appears less likely than ever before.European federalists dismiss these problems as growing pains. The EU is an incredibly ambitious work in progress, they note, one that is rooted in a vision of Europe that challenges deep-seated notions of sovereignty and statehood. Surveying the destruction during World War II, Jean Monnet, considered by many to be a founding father of the EU, wrote, \"There will be no peace in Europe if the states are reconstituted on the basis of national sovereignty. . . . The countries of Europe are too small to guarantee their peoples the necessary prosperity and social development. The European states must constitute themselves into a federation.\" Monnet\\'s union would be built through cooperation and common markets and would ultimately resemble a \"United States of Europe,\" a phrase later embraced by Winston Churchill to describe his own vision of Europe\\'s best possible future. The question is whether that vision can withstand the blows that have rained down on the EU since the financial crisis began in 2008.When the euro was adopted, in 1999, many voiced concerns that  Log in or register for free to continue reading.Registered users get access to one free article every month.Log in Register         Or subscribe and save 55%!      Your subscription includes:        Full website and iPad access              Magazine issues      New! Books from the        Foreign Affairs Anthology Series              Subscribe       blank',\n",
       "  'date': datetime.datetime(2016, 2, 25, 0, 0),\n",
       "  'description': '  How the Continent Lost Its Way',\n",
       "  'title': 'The European Disunion'},\n",
       " {'article': \"At the end of September, Russia began conducting air strikes in Syria, ostensibly to combat terrorist groups. The strikes constitute Russia's biggest intervention in the Middle East in decades. Its unanticipated military foray into Syria has transformed the civil war there into a proxy U.S.-Russian conflict and has raised the stakes in the ongoing standoff between Moscow and Washington. It has also succeeded in diverting attention away from Russia's destabilization of Ukraine, making it impossible for the West to continue to isolate the Kremlin. Russia is now a player in the Syrian crisis, and the United States will have to find a way to deal with it.Once again, Washington has been caught off-guard, just as it was in March 2014, when Russia annexed Crimea and began supporting pro-Russian separatists fighting Ukrainian forces in eastern Ukraine. For all of Russia's domestic problems--a shrinking economy, a declining population, and high rates of capital flight and brain drain--it has projected a surprising amount of power not only in its neighborhood but also beyond. U.S. President Barack Obama may refer to Russia as a regional power, but Russia's military intervention in Syria demonstrates that it once again intends to be accepted as a global actor and play a part in every major international decision. This will be a vexing challenge not only for Obama during his remaining time in office but also for the next occupant of the White House.Why has Washington been so  Log in or register for free to continue reading.Registered users get access to one free article every month.Log in Register         Or subscribe and save 55%!      Your subscription includes:        Full website and iPad access              Magazine issues      New! Books from the        Foreign Affairs Anthology Series              Subscribe       \",\n",
       "  'date': datetime.datetime(2016, 2, 25, 0, 0),\n",
       "  'description': \"  How to Respond to Russia's Intervention\",\n",
       "  'title': \"Putin's Power Play in Syria\"},\n",
       " {'article': 'Since its founding at the end of World War I, the League of Nations has stood at the center of clashing narratives about the twentieth century. For liberals, the League embodies the noble yet unfulfilled vision of Wilsonian internationalism. Realists see its failure as a testament to the durability of power politics. Revisionist historians interpret the League as an institutional tool used by European powers to reconstruct and legitimate their empires. In this major new study, Pedersen portrays the League as an awkward and conflicted undertaking that nonetheless put in motion the decline of imperialism and the spread of national self-determination. Pedersen focuses on the League\\'s Permanent Mandates Commission, the system established in 1921 to manage the territories in Africa, the Middle East, and the Pacific that Germany, Austria-Hungary, and the Ottoman Empire lost in the war. Many saw the mandate system as a ploy to strengthen British imperial rule. But, as Pedersen writes, the League machinery unexpectedly provided a \"platform\" for internationalists, humanitarians, nationalists, and others who sought to expose the brutality of imperial rule. It would take decades and another world war to bring about a global system of sovereign independent states. But the League pointed the way. blank',\n",
       "  'date': datetime.datetime(2016, 2, 25, 0, 0),\n",
       "  'description': 'blank',\n",
       "  'title': 'The Guardians: The League of Nations and the Crisis of Empire'},\n",
       " {'article': 'In one of the most riveting and heartfelt books to appear in some time, Coates reflects on the state of black America in the form of a letter to his adolescent son. For Coates, the American dream is so grounded in racism that the \"people who need to believe they are white\" today are almost as deeply involved in the destruction of black bodies and black lives as their forebears were. Coates\\' writing is powered by his outrage at the recent string of police shootings of young black men, which have gone largely unpunished, and intensified by his visceral fear for the safety of his own son in a country where such incidents are widespread. The book achieves a level of clarity and eloquence reminiscent of Ralph Ellison\\'s classic Invisible Man; it is compelling even when it isn\\'t entirely convincing. Coates may be a better polemicist than analyst, but the perspective he brings to American life is one that no responsible citizen or serious scholar can safely ignore. blank',\n",
       "  'date': datetime.datetime(2016, 2, 25, 0, 0),\n",
       "  'description': 'blank',\n",
       "  'title': 'Between the World and Me'}]"
      ]
     },
     "execution_count": 157,
     "metadata": {},
     "output_type": "execute_result"
    }
   ],
   "source": [
    "articles_data_list"
   ]
  },
  {
   "cell_type": "code",
   "execution_count": 131,
   "metadata": {
    "collapsed": false
   },
   "outputs": [],
   "source": [
    "soup = get_article_text_no_login(article_links[0])"
   ]
  },
  {
   "cell_type": "code",
   "execution_count": 133,
   "metadata": {
    "collapsed": false
   },
   "outputs": [
    {
     "ename": "IndexError",
     "evalue": "list index out of range",
     "output_type": "error",
     "traceback": [
      "\u001b[0;31m---------------------------------------------------------------------------\u001b[0m",
      "\u001b[0;31mIndexError\u001b[0m                                Traceback (most recent call last)",
      "\u001b[0;32m<ipython-input-133-90bee42960c3>\u001b[0m in \u001b[0;36m<module>\u001b[0;34m()\u001b[0m\n\u001b[1;32m      7\u001b[0m    \u001b[0mtop_article_formatted\u001b[0m \u001b[0;34m=\u001b[0m \u001b[0mremove_unwanted_unicode_characters\u001b[0m\u001b[0;34m(\u001b[0m\u001b[0mtop_content\u001b[0m\u001b[0;34m[\u001b[0m\u001b[0;36m0\u001b[0m\u001b[0;34m]\u001b[0m\u001b[0;34m.\u001b[0m\u001b[0mget_text\u001b[0m\u001b[0;34m(\u001b[0m\u001b[0;34m)\u001b[0m\u001b[0;34m)\u001b[0m\u001b[0;34m\u001b[0m\u001b[0m\n\u001b[1;32m      8\u001b[0m \u001b[0;32mexcept\u001b[0m\u001b[0;34m:\u001b[0m\u001b[0;34m\u001b[0m\u001b[0m\n\u001b[0;32m----> 9\u001b[0;31m    \u001b[0mtop_article_formatted\u001b[0m \u001b[0;34m=\u001b[0m \u001b[0msoup\u001b[0m\u001b[0;34m.\u001b[0m\u001b[0mfindAll\u001b[0m\u001b[0;34m(\u001b[0m\u001b[0mclass_\u001b[0m\u001b[0;34m=\u001b[0m\u001b[0;34m\"container l-detail\"\u001b[0m\u001b[0;34m)\u001b[0m\u001b[0;34m[\u001b[0m\u001b[0;36m0\u001b[0m\u001b[0;34m]\u001b[0m\u001b[0;34m.\u001b[0m\u001b[0mtext\u001b[0m\u001b[0;34m\u001b[0m\u001b[0m\n\u001b[0m",
      "\u001b[0;31mIndexError\u001b[0m: list index out of range"
     ]
    }
   ],
   "source": [
    " ## Retrieve the top and bottom halves of the article\n",
    "top_content = soup.find_all(class_=\"top_content_at_page_load\" )\n",
    "end_content = soup.find_all(class_=\"l-article-column article-icon-cap\")\n",
    "\n",
    "## Format out the unicode from the top half\n",
    "try:\n",
    "    top_article_formatted = remove_unwanted_unicode_characters(top_content[0].get_text())\n",
    "except:\n",
    "    top_article_formatted = soup.findAll(class_=\"container l-detail\")[0].text"
   ]
  },
  {
   "cell_type": "code",
   "execution_count": 134,
   "metadata": {
    "collapsed": true
   },
   "outputs": [],
   "source": [
    "top_content = soup.find_all(class_=\"top_content_at_page_load\" )\n",
    "\n"
   ]
  },
  {
   "cell_type": "code",
   "execution_count": 138,
   "metadata": {
    "collapsed": false
   },
   "outputs": [
    {
     "ename": "NameError",
     "evalue": "global name 're' is not defined",
     "output_type": "error",
     "traceback": [
      "\u001b[0;31m---------------------------------------------------------------------------\u001b[0m",
      "\u001b[0;31mNameError\u001b[0m                                 Traceback (most recent call last)",
      "\u001b[0;32m<ipython-input-138-21076275f3ad>\u001b[0m in \u001b[0;36m<module>\u001b[0;34m()\u001b[0m\n\u001b[0;32m----> 1\u001b[0;31m \u001b[0mremove_unwanted_unicode_characters\u001b[0m\u001b[0;34m(\u001b[0m\u001b[0mtop_content\u001b[0m\u001b[0;34m[\u001b[0m\u001b[0;36m0\u001b[0m\u001b[0;34m]\u001b[0m\u001b[0;34m.\u001b[0m\u001b[0mget_text\u001b[0m\u001b[0;34m(\u001b[0m\u001b[0;34m)\u001b[0m\u001b[0;34m)\u001b[0m\u001b[0;34m\u001b[0m\u001b[0m\n\u001b[0m",
      "\u001b[0;32m<ipython-input-130-00b7d1768752>\u001b[0m in \u001b[0;36mremove_unwanted_unicode_characters\u001b[0;34m(text_string)\u001b[0m\n\u001b[1;32m      1\u001b[0m \u001b[0;31m# function to get rid of u2018|\\u2019 and replace with quoteation mark\u001b[0m\u001b[0;34m\u001b[0m\u001b[0;34m\u001b[0m\u001b[0m\n\u001b[1;32m      2\u001b[0m \u001b[0;32mdef\u001b[0m \u001b[0mremove_unwanted_unicode_characters\u001b[0m\u001b[0;34m(\u001b[0m\u001b[0mtext_string\u001b[0m\u001b[0;34m)\u001b[0m\u001b[0;34m:\u001b[0m\u001b[0;34m\u001b[0m\u001b[0m\n\u001b[0;32m----> 3\u001b[0;31m     \u001b[0mnew_text_string\u001b[0m \u001b[0;34m=\u001b[0m \u001b[0mre\u001b[0m\u001b[0;34m.\u001b[0m\u001b[0msub\u001b[0m\u001b[0;34m(\u001b[0m\u001b[0;34mu\"(\\u2018|\\u2019)\"\u001b[0m\u001b[0;34m,\u001b[0m \u001b[0;34m\"'\"\u001b[0m\u001b[0;34m,\u001b[0m \u001b[0mtext_string\u001b[0m\u001b[0;34m)\u001b[0m\u001b[0;34m\u001b[0m\u001b[0m\n\u001b[0m\u001b[1;32m      4\u001b[0m     \u001b[0mnew_text_string\u001b[0m \u001b[0;34m=\u001b[0m \u001b[0mre\u001b[0m\u001b[0;34m.\u001b[0m\u001b[0msub\u001b[0m\u001b[0;34m(\u001b[0m\u001b[0;34mu\"(\\u2014)\"\u001b[0m\u001b[0;34m,\u001b[0m \u001b[0;34m\"--\"\u001b[0m\u001b[0;34m,\u001b[0m \u001b[0mnew_text_string\u001b[0m\u001b[0;34m)\u001b[0m\u001b[0;34m\u001b[0m\u001b[0m\n\u001b[1;32m      5\u001b[0m     \u001b[0mnew_text_string\u001b[0m \u001b[0;34m=\u001b[0m \u001b[0mre\u001b[0m\u001b[0;34m.\u001b[0m\u001b[0msub\u001b[0m\u001b[0;34m(\u001b[0m\u001b[0;34mu\"(\\u201c|\\u201d)\"\u001b[0m\u001b[0;34m,\u001b[0m \u001b[0;34m'\"'\u001b[0m \u001b[0;34m,\u001b[0m \u001b[0mnew_text_string\u001b[0m\u001b[0;34m)\u001b[0m\u001b[0;34m\u001b[0m\u001b[0m\n",
      "\u001b[0;31mNameError\u001b[0m: global name 're' is not defined"
     ]
    }
   ],
   "source": [
    "remove_unwanted_unicode_characters(top_content[0].get_text())"
   ]
  },
  {
   "cell_type": "code",
   "execution_count": null,
   "metadata": {
    "collapsed": true
   },
   "outputs": [],
   "source": []
  }
 ],
 "metadata": {
  "kernelspec": {
   "display_name": "Python 2",
   "language": "python",
   "name": "python2"
  },
  "language_info": {
   "codemirror_mode": {
    "name": "ipython",
    "version": 2
   },
   "file_extension": ".py",
   "mimetype": "text/x-python",
   "name": "python",
   "nbconvert_exporter": "python",
   "pygments_lexer": "ipython2",
   "version": "2.7.10"
  }
 },
 "nbformat": 4,
 "nbformat_minor": 0
}
